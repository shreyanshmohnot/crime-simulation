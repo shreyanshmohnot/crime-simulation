{
 "cells": [
  {
   "cell_type": "code",
   "execution_count": null,
   "metadata": {},
   "outputs": [],
   "source": [
    "# Crime World Simulation Generation\n",
    "\n",
    "from IPython import display\n",
    "from CrimeWorld import CrimeWorld, centeredGrid, middleMatrix\n",
    "\n",
    "import time\n",
    "import random\n",
    "import numpy as np\n",
    "import matplotlib.pyplot as plt"
   ]
  },
  {
   "cell_type": "code",
   "execution_count": null,
   "metadata": {},
   "outputs": [],
   "source": [
    "# reset everything\n",
    "np.random.seed(0)\n",
    "start = time.time()\n",
    "\n",
    "T=730 \n",
    "it=100*730\n",
    "cw = CrimeWorld()"
   ]
  },
  {
   "cell_type": "code",
   "execution_count": null,
   "metadata": {},
   "outputs": [],
   "source": [
    "# Static World simulation, generate the crime world scenarios\n",
    "totalC = np.zeros(1)\n",
    "for k in range(it):\n",
    "    C,B,n,P = cw.update()\n",
    "    if totalC.sum() == 0:\n",
    "        totalC = C\n",
    "    else:\n",
    "        totalC += C\n",
    "    # to build up the graphs and plots using below code\n",
    "    if k % 100 == 0:\n",
    "        end = time.time()\n",
    "        plt.clf()\n",
    "        fig, (ax1,ax2,ax3,ax4,ax5) = plt.subplots(nrows=1,ncols=5,figsize=(15,15))\n",
    "        ax1.imshow(B)       # dynamic attractiveness\n",
    "        ax2.imshow(n)       # burglar count\n",
    "        ax3.imshow(totalC)  # crimes since last update\n",
    "        ax4.imshow(P)       # police count\n",
    "        ax5.imshow(cw.D)    # police deterrence\n",
    "        display.clear_output(wait=True)\n",
    "        display.display(plt.gcf())\n",
    "        print(end-start)\n",
    "        print(\"k={}, n={}, crimes={}\".format(k,n.sum(),totalC.sum()))\n",
    "        print(\"k={}, n={}, crimes={}, c={}\".format(k,n.sum(),cw.totalC.sum(),cw.C.sum()))\n",
    "        start = time.time()\n",
    "        totalC = np.zeros(1) \n"
   ]
  },
  {
   "cell_type": "code",
   "execution_count": null,
   "metadata": {},
   "outputs": [],
   "source": [
    "cw.save_checkpoint('resultFile.npz')"
   ]
  }
 ],
 "metadata": {
  "kernelspec": {
   "display_name": "Python 3",
   "language": "python",
   "name": "python3"
  },
  "language_info": {
   "codemirror_mode": {
    "name": "ipython",
    "version": 3
   },
   "file_extension": ".py",
   "mimetype": "text/x-python",
   "name": "python",
   "nbconvert_exporter": "python",
   "pygments_lexer": "ipython3",
   "version": "3.6.8"
  }
 },
 "nbformat": 4,
 "nbformat_minor": 2
}
