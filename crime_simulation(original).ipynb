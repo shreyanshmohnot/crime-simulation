{
 "cells": [
  {
   "cell_type": "code",
   "execution_count": 1,
   "metadata": {},
   "outputs": [
    {
     "name": "stderr",
     "output_type": "stream",
     "text": [
      "/Library/Frameworks/Python.framework/Versions/2.7/lib/python2.7/site-packages/h5py/__init__.py:36: FutureWarning: Conversion of the second argument of issubdtype from `float` to `np.floating` is deprecated. In future, it will be treated as `np.float64 == np.dtype(float).type`.\n",
      "  from ._conv import register_converters as _register_converters\n",
      "Using TensorFlow backend.\n"
     ]
    }
   ],
   "source": [
    "%matplotlib inline\n",
    "import matplotlib.pyplot as plt\n",
    "import tensorflow as tf\n",
    "from tensorflow.examples.tutorials.mnist import input_data\n",
    "import numpy as np\n",
    "from IPython import display\n",
    "import random\n",
    "import gym\n",
    "from collections import deque\n",
    "from keras.models import Sequential\n",
    "from keras.layers import Dense\n",
    "from keras.optimizers import Adam"
   ]
  },
  {
   "cell_type": "code",
   "execution_count": 2,
   "metadata": {},
   "outputs": [
    {
     "name": "stdout",
     "output_type": "stream",
     "text": [
      "1\n"
     ]
    }
   ],
   "source": [
    "M=128;\n",
    "dt=1.0/100.0;\n",
    "T=730;\n",
    "it=100*730;\n",
    "\n",
    "w=1.0/15.0;\n",
    "gamma=.019;\n",
    "eta=.03;\n",
    "theta=.56;\n",
    "A0par=1.0/30.0;\n",
    "\n",
    "B=np.zeros((M,M));\n",
    "A0=A0par*np.ones((M,M));\n",
    "n=np.zeros((M,M));\n",
    "print np.int(1.0)"
   ]
  },
  {
   "cell_type": "code",
   "execution_count": 3,
   "metadata": {},
   "outputs": [],
   "source": [
    "def update_system(A0,B,n,dt,gamma,eta,theta,w):\n",
    "    ntemp=np.zeros(n.shape);\n",
    "    C=np.zeros(n.shape);\n",
    "    M=n.shape[0]\n",
    "    A=A0+B;\n",
    "    for i in range(M):\n",
    "        for j in range(M):\n",
    "            \n",
    "            #loop through criminals and commit crimes or move\n",
    "            for l in range(np.int(n[i,j])):\n",
    "                if((1.0-np.exp(-A[i,j]*dt))>np.random.rand()):\n",
    "                    ntemp[i,j]=ntemp[i,j]-1;\n",
    "                    C[i,j]=C[i,j]+1;\n",
    "                else:\n",
    "                    temp=A[min(i+1,M-1),j]+A[max(i-1,0),j]+A[i,min(j+1,M-1)]+A[i,max(j-1,0)];\n",
    "                    u=np.random.rand();\n",
    "                    p1=A[min(i+1,M-1),j]/temp;\n",
    "                    p2=p1+A[max(i-1,0),j]/temp;\n",
    "                    p3=p2+A[i,min(j+1,M-1)]/temp;\n",
    "                    p4=p3+A[i,max(j-1,0)]/temp;\n",
    "                    if(u<p1):\n",
    "                        it=min(i+1,M-1);\n",
    "                        jt=j;\n",
    "                    if((u<p2) and (u>=p1)):\n",
    "                        it=max(i-1,0);\n",
    "                        jt=j;\n",
    "                    if((u<p3) and (u>=p2)):\n",
    "                        it=i;\n",
    "                        jt=min(j+1,M-1);\n",
    "                    if((u<p4) and (u>=p3)):\n",
    "                        it=i;\n",
    "                        jt=max(j-1,0);\n",
    "                        \n",
    "                    ntemp[it,jt]=ntemp[it,jt]+1;\n",
    "                    ntemp[i,j]=ntemp[i,j]-1;\n",
    "    # new criminal count is old one plus those that moved to minus\n",
    "    # those that moved from or commited crimes\n",
    "            \n",
    "    n=n+ntemp;\n",
    "\n",
    "    # also add criminals to system\n",
    "    for i in range(M):\n",
    "        for j in range(M):\n",
    "            if((1-np.exp(-gamma*dt))>np.random.rand()):\n",
    "                n[i,j]=n[i,j]+1;\n",
    "\n",
    "\n",
    "    #update attractiveness based upon recent crimes\n",
    "    Btemp=np.copy(B)\n",
    "    for i in range(M):\n",
    "        for j in range(M):\n",
    "            dB=B[i,j]*(1-eta)+(eta/4)*(B[min(i+1,M-1),j]+B[max(i-1,0),j]+B[i,min(j+1,M-1)]+B[i,max(j-1,0)]);\n",
    "            Btemp[i,j]=theta*C[i,j]+(1.0-w*dt)*dB;\n",
    " \n",
    "    \n",
    "    B=np.copy(Btemp)\n",
    "\n",
    "    return C,B,n"
   ]
  },
  {
   "cell_type": "code",
   "execution_count": null,
   "metadata": {},
   "outputs": [
    {
     "data": {
      "image/png": "[encoded data removed]",
      "text/plain": [
       "<Figure size 432x288 with 1 Axes>"
      ]
     },
     "metadata": {},
     "output_type": "display_data"
    }
   ],
   "source": [
    "for k in range(it):\n",
    "    C,B,n=update_system(A0,B,n,dt,gamma,eta,theta,w)\n",
    "    if k % 100 == 0:\n",
    "        plt.clf()\n",
    "        plt.imshow(B)\n",
    "        display.clear_output(wait=True)\n",
    "        display.display(plt.gcf())"
   ]
  },
  {
   "cell_type": "code",
   "execution_count": null,
   "metadata": {},
   "outputs": [],
   "source": []
  },
  {
   "cell_type": "code",
   "execution_count": null,
   "metadata": {},
   "outputs": [],
   "source": []
  }
 ],
 "metadata": {
  "kernelspec": {
   "display_name": "Python 2",
   "language": "python",
   "name": "python2"
  },
  "language_info": {
   "codemirror_mode": {
    "name": "ipython",
    "version": 2
   },
   "file_extension": ".py",
   "mimetype": "text/x-python",
   "name": "python",
   "nbconvert_exporter": "python",
   "pygments_lexer": "ipython2",
   "version": "2.7.14"
  }
 },
 "nbformat": 4,
 "nbformat_minor": 2
}
