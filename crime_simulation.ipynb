{
 "cells": [
  {
   "cell_type": "code",
   "execution_count": null,
   "metadata": {},
   "outputs": [],
   "source": [
    "%matplotlib inline\n",
    "import matplotlib.pyplot as plt\n",
    "import tensorflow as tf\n",
    "from tensorflow.examples.tutorials.mnist import input_data\n",
    "import numpy as np\n",
    "from IPython import display\n",
    "import random\n",
    "import time\n",
    "import timeit\n",
    "# import gym\n",
    "from collections import deque\n",
    "from keras.models import Sequential\n",
    "from keras.layers import Dense\n",
    "from keras.optimizers import Adam"
   ]
  },
  {
   "cell_type": "code",
   "execution_count": null,
   "metadata": {},
   "outputs": [],
   "source": [
    "M=128;\n",
    "dt=1.0/100.0;\n",
    "T=730;\n",
    "it=100*730;\n",
    "\n",
    "w=1.0/15.0;\n",
    "gamma=.019;\n",
    "eta=.03;\n",
    "theta=.56;\n",
    "A0par=1.0/30.0;\n",
    "\n",
    "B=np.zeros((M,M));\n",
    "A0=A0par*np.ones((M,M));\n",
    "n=np.zeros((M,M));\n",
    "# print np.int(1.0)"
   ]
  },
  {
   "cell_type": "code",
   "execution_count": null,
   "metadata": {},
   "outputs": [],
   "source": [
    "def neighborMat(A):\n",
    "    # 4-neighbor sum (edge repeated)\n",
    "    B = np.zeros(A.shape)\n",
    "    B[1:,] += A[:-1,]       # up\n",
    "    B[:-1,] += A[1:,]       # down\n",
    "    B[:,1:] += A[:,:-1]     # left\n",
    "    B[:,:-1] += A[:,1:]     # right\n",
    "\n",
    "#     # correct edges (move out of bound => return to same spot)\n",
    "#     B[0,] += A[0,]          # up out of bounds\n",
    "#     B[-1,] += A[-1,]        # down out of bounds\n",
    "#     B[:,0] += A[:,0]        # left out of bounds\n",
    "#     B[:,-1] += A[:,-1]      # right out of bounds\n",
    "    \n",
    "    # correct edges (periodic)\n",
    "    B[0,] += A[-1,]         # up out of bounds\n",
    "    B[-1,] += A[0,]         # down out of bounds\n",
    "    B[:,0] += A[:,-1]       # left out of bounds\n",
    "    B[:,-1] += A[:,0]       # right out of bounds\n",
    "\n",
    "    return B"
   ]
  },
  {
   "cell_type": "code",
   "execution_count": 26,
   "metadata": {},
   "outputs": [],
   "source": [
    "def update_system(A0,B,n,dt,gamma,eta,theta,w):\n",
    "    ntemp=np.zeros(n.shape);\n",
    "    C=np.zeros(n.shape);\n",
    "    M=n.shape[0]\n",
    "    A=A0+B;\n",
    "    \n",
    "    # precalculate total neighbor attractiveness may still be slightly faster\n",
    "    tA = neighborMat(A)\n",
    "    \n",
    "    # improvement #3: 0.3s to 0.1s per 10 iterations (~n=750)\n",
    "    nz = np.nonzero(n)\n",
    "    pDoCrime = np.exp(-A*dt)\n",
    "    # row,col loop only spots where burlgars are present (n[i,j] > 0)\n",
    "    for i,j in zip(nz[0],nz[1]):\n",
    "        # calculate neighbor index once\n",
    "#         i1 = min(i+1,M-1)   # down\n",
    "#         i2 = max(i-1,0)     # up\n",
    "#         j3 = min(j+1,M-1)   # right\n",
    "#         j4 = max(j-1,0)     # left\n",
    "        # periodic neighbor instead\n",
    "        i1 = (i+1)%M\n",
    "        i2 = (i-1)%M\n",
    "        j3 = (j+1)%M\n",
    "        j4 = (j-1)%M\n",
    "#         totalA = A[i1,j]+A[i2,j]+A[i,j3]+A[i,j4]\n",
    "        totalA = tA[i,j]\n",
    "        \n",
    "        # probabilities for moving to neighbors (same order as above)\n",
    "        p1 = A[i1,j]/totalA;\n",
    "        p2 = p1+A[i2,j]/totalA;\n",
    "        p3 = p2+A[i,j3]/totalA;\n",
    "#         p4 = p3+A[i,j4]/totalA; # should always be 1\n",
    "        \n",
    "        # somehow full loop is faster than calculating this, possibly since k is relatively small\n",
    "        # crime committed\n",
    "#         k = np.sum(np.random.rand(np.int(n[i,j]))<(1.0-np.exp(-A[i,j]*dt)))\n",
    "#         C[i,j] += k\n",
    "        \n",
    "#        # remaining move\n",
    "#         for l in range(np.int(n[i,j]-k)):\n",
    "        # loop through burglars in position to commit crime or move elsewhere\n",
    "        for l in range(np.int(n[i,j])):\n",
    "            # increment crime\n",
    "#             if((1.0-np.exp(-A[i,j]*dt))>np.random.rand()):\n",
    "            if(pDoCrime[i,j] < np.random.rand()):\n",
    "#                 ntemp[i,j]=ntemp[i,j]-1;\n",
    "                C[i,j] += 1;\n",
    "            # move to neighboring cell\n",
    "            else:\n",
    "#                 temp=A[min(i+1,M-1),j]+A[max(i-1,0),j]+A[i,min(j+1,M-1)]+A[i,max(j-1,0)];\n",
    "#                     if np.abs(tA[i,j] - temp) > 1e-12:\n",
    "#                         print(\"tempA mismatch {} vs {}\".format(temp,tA[i,j]))\n",
    "#                     temp = tA[i,j]\n",
    "#                 temp = A[i1,j]+A[i2,j]+A[i,j3]+A[i,j4]\n",
    "                    \n",
    "#                     u=np.random.rand();\n",
    "#                     p1=A[min(i+1,M-1),j]/temp;\n",
    "#                     p2=p1+A[max(i-1,0),j]/temp;\n",
    "#                     p3=p2+A[i,min(j+1,M-1)]/temp;\n",
    "#                     p4=p3+A[i,max(j-1,0)]/temp;\n",
    "#                     if(u<p1):\n",
    "#                         it=min(i+1,M-1);\n",
    "#                         jt=j;\n",
    "#                     if((u<p2) and (u>=p1)):\n",
    "#                         it=max(i-1,0);\n",
    "#                         jt=j;\n",
    "#                     if((u<p3) and (u>=p2)):\n",
    "#                         it=i;\n",
    "#                         jt=min(j+1,M-1);\n",
    "#                     if((u<p4) and (u>=p3)):\n",
    "#                         it=i;\n",
    "#                         jt=max(j-1,0);\n",
    "                \n",
    "                # np.random.choice(4,k,p=[p1,p2,p3,p4]) outside loop is not faster than this\n",
    "                # this might change if k very large\n",
    "                u=np.random.rand();\n",
    "                if(u < p1):\n",
    "                    ntemp[i1,j] += 1\n",
    "                elif(u < p2):\n",
    "                    ntemp[i2,j] += 1\n",
    "                elif(u < p3):\n",
    "                    ntemp[i,j3] += 1\n",
    "                else:\n",
    "                    ntemp[i,j4] += 1\n",
    "                        \n",
    "    # new criminal count is old one plus those that moved to minus\n",
    "    # those that moved from or commited crimes\n",
    "            \n",
    "#     n=n+ntemp;\n",
    "    n = ntemp; # no need to subtract n from n then add\n",
    "    \n",
    "    # also add criminals to system\n",
    "    # improvement #1: 0.8s to 0.3s per 10 iterations\n",
    "#     R = np.random.rand(M**2)\n",
    "    # 1-D version of n: updates n\n",
    "    flat_n = n.ravel()\n",
    "#     flat_n[(1-np.exp(-gamma*dt))>R] += 1\n",
    "    flat_n[np.random.rand(M**2) > np.exp(-gamma*dt)] += 1\n",
    "    \n",
    "#     for i in range(M):\n",
    "#         for j in range(M):\n",
    "#             if((1-np.exp(-gamma*dt))>np.random.rand()):\n",
    "# #             if((1-np.exp(-gamma*dt))>R[j+i*M]):\n",
    "#                 n[i,j]=n[i,j]+1;\n",
    "\n",
    "# #     print(np.array_equal(m,n))\n",
    "                \n",
    "                \n",
    "\n",
    "    #update attractiveness based upon recent crimes\n",
    "    # improvement #1: 1.5s to 0.8s per 10 iterations\n",
    "#     dB2 = (1-eta)*B + (eta/4)*neighborMat(B)\n",
    "#     B = theta*C + (1.0-w*dt)*dB2\n",
    "    B = theta*C + (1.0-w*dt)*((1-eta)*B + (eta/4)*neighborMat(B))\n",
    "    \n",
    "#     Btemp=np.copy(B)\n",
    "#     for i in range(M):\n",
    "#         for j in range(M):\n",
    "#             dB=B[i,j]*(1-eta)+(eta/4)*(B[min(i+1,M-1),j]+B[max(i-1,0),j]+B[i,min(j+1,M-1)]+B[i,max(j-1,0)]);\n",
    "# #             if np.abs(dB2[i,j] - dB) > 1e-16:\n",
    "# #                 print(\"dB mismatch {} vs {}\".format(dB,dB2[i,j]))\n",
    "#             Btemp[i,j]=theta*C[i,j]+(1.0-w*dt)*dB;\n",
    "    \n",
    "# #     diffB = np.linalg.norm(Btemp2-Btemp,'fro')\n",
    "# #     if (diffB > 1e-16):\n",
    "# #         print(diffB)\n",
    "#     B=np.copy(Btemp)\n",
    "\n",
    "    return C,B,n"
   ]
  },
  {
   "cell_type": "code",
   "execution_count": null,
   "metadata": {},
   "outputs": [],
   "source": [
    "# consider using this if our n becomes large\n",
    "def update_system2(A0,B,n,dt,gamma,eta,theta,w):\n",
    "    ntemp=np.zeros(n.shape);\n",
    "    C=np.zeros(n.shape);\n",
    "    M=n.shape[0]\n",
    "    A=A0+B;\n",
    "    \n",
    "    # precalculate total neighbor attractiveness may still be slightly faster\n",
    "    tA = neighborMat(A)\n",
    "    \n",
    "    # TODO: bypass this loop too\n",
    "    nz = np.nonzero(n)\n",
    "    pDoCrime = np.exp(-A*dt)\n",
    "    # row,col loop only spots where burlgars are present (n[i,j] > 0)\n",
    "    for i,j in zip(nz[0],nz[1]):\n",
    "        # calculate neighbor index once\n",
    "        # periodic neighbor instead\n",
    "        i1 = (i+1)%M\n",
    "        i2 = (i-1)%M\n",
    "        j3 = (j+1)%M\n",
    "        j4 = (j-1)%M\n",
    "        totalA = tA[i,j]\n",
    "        \n",
    "        # this is faster for large n (currently only 1-3)\n",
    "        k = np.sum(np.random.rand(np.int(n[i,j]))>pDoCrime[i,j])\n",
    "        C[i,j] += k\n",
    "        \n",
    "        # movement for those that do not commit crime\n",
    "        if k < n[i,j]:\n",
    "            mvP = [A[i1,j]/totalA,A[i2,j]/totalA,A[i,j3]/totalA,A[i,j4]/totalA]\n",
    "            mv = np.random.multinomial(int(n[i,j]-k),mvP)\n",
    "            ntemp[i1,j] += mv[0]\n",
    "            ntemp[i2,j] += mv[1]\n",
    "            ntemp[i1,j3] += mv[2]\n",
    "            ntemp[i1,j4] += mv[3]\n",
    "                        \n",
    "    # new criminal count is old one plus those that moved to minus\n",
    "    # those that moved from or commited crimes\n",
    "            \n",
    "    n = ntemp; # no need to subtract n from n then add\n",
    "    \n",
    "    # also add criminals to system\n",
    "    # improvement #1: 0.8s to 0.3s per 10 iterations\n",
    "    R = np.random.rand(M**2)\n",
    "    # 1-D version of n: updates n\n",
    "    flat_n = n.ravel()\n",
    "    flat_n[(1-np.exp(-gamma*dt))>R] += 1                \n",
    "                \n",
    "\n",
    "    #update attractiveness based upon recent crimes\n",
    "    # improvement #1: 1.5s to 0.8s per 10 iterations\n",
    "#     dB2 = (1-eta)*B + (eta/4)*neighborMat(B)\n",
    "#     B = theta*C + (1.0-w*dt)*dB2\n",
    "    B = theta*C + (1.0-w*dt)*((1-eta)*B + (eta/4)*neighborMat(B))\n",
    "\n",
    "    return C,B,n"
   ]
  },
  {
   "cell_type": "code",
   "execution_count": 29,
   "metadata": {},
   "outputs": [
    {
     "data": {
      "image/png": "[encoded data removed]",
      "text/plain": [
       "<Figure size 432x288 with 2 Axes>"
      ]
     },
     "metadata": {},
     "output_type": "display_data"
    },
    {
     "name": "stdout",
     "output_type": "stream",
     "text": [
      "0.7758557796478271\n",
      "k=14200, n=695.0\n"
     ]
    },
    {
     "ename": "KeyboardInterrupt",
     "evalue": "",
     "output_type": "error",
     "traceback": [
      "\u001b[0;31m---------------------------------------------------------------------------\u001b[0m",
      "\u001b[0;31mKeyboardInterrupt\u001b[0m                         Traceback (most recent call last)",
      "\u001b[0;32m<ipython-input-29-b3804aabe27a>\u001b[0m in \u001b[0;36m<module>\u001b[0;34m()\u001b[0m\n\u001b[1;32m      2\u001b[0m \u001b[0mstart\u001b[0m \u001b[0;34m=\u001b[0m \u001b[0mtime\u001b[0m\u001b[0;34m.\u001b[0m\u001b[0mtime\u001b[0m\u001b[0;34m(\u001b[0m\u001b[0;34m)\u001b[0m\u001b[0;34m\u001b[0m\u001b[0m\n\u001b[1;32m      3\u001b[0m \u001b[0;32mfor\u001b[0m \u001b[0mk\u001b[0m \u001b[0;32min\u001b[0m \u001b[0mrange\u001b[0m\u001b[0;34m(\u001b[0m\u001b[0mit\u001b[0m\u001b[0;34m)\u001b[0m\u001b[0;34m:\u001b[0m\u001b[0;34m\u001b[0m\u001b[0m\n\u001b[0;32m----> 4\u001b[0;31m     \u001b[0mC\u001b[0m\u001b[0;34m,\u001b[0m\u001b[0mB\u001b[0m\u001b[0;34m,\u001b[0m\u001b[0mn\u001b[0m\u001b[0;34m=\u001b[0m\u001b[0mupdate_system\u001b[0m\u001b[0;34m(\u001b[0m\u001b[0mA0\u001b[0m\u001b[0;34m,\u001b[0m\u001b[0mB\u001b[0m\u001b[0;34m,\u001b[0m\u001b[0mn\u001b[0m\u001b[0;34m,\u001b[0m\u001b[0mdt\u001b[0m\u001b[0;34m,\u001b[0m\u001b[0mgamma\u001b[0m\u001b[0;34m,\u001b[0m\u001b[0meta\u001b[0m\u001b[0;34m,\u001b[0m\u001b[0mtheta\u001b[0m\u001b[0;34m,\u001b[0m\u001b[0mw\u001b[0m\u001b[0;34m)\u001b[0m\u001b[0;34m\u001b[0m\u001b[0m\n\u001b[0m\u001b[1;32m      5\u001b[0m     \u001b[0;32mif\u001b[0m \u001b[0mk\u001b[0m \u001b[0;34m%\u001b[0m \u001b[0;36m100\u001b[0m \u001b[0;34m==\u001b[0m \u001b[0;36m0\u001b[0m\u001b[0;34m:\u001b[0m\u001b[0;34m\u001b[0m\u001b[0m\n\u001b[1;32m      6\u001b[0m         \u001b[0mend\u001b[0m \u001b[0;34m=\u001b[0m \u001b[0mtime\u001b[0m\u001b[0;34m.\u001b[0m\u001b[0mtime\u001b[0m\u001b[0;34m(\u001b[0m\u001b[0;34m)\u001b[0m\u001b[0;34m\u001b[0m\u001b[0m\n",
      "\u001b[0;32m<ipython-input-26-5975c9a68581>\u001b[0m in \u001b[0;36mupdate_system\u001b[0;34m(A0, B, n, dt, gamma, eta, theta, w)\u001b[0m\n\u001b[1;32m     43\u001b[0m             \u001b[0;31m# increment crime\u001b[0m\u001b[0;34m\u001b[0m\u001b[0;34m\u001b[0m\u001b[0m\n\u001b[1;32m     44\u001b[0m \u001b[0;31m#             if((1.0-np.exp(-A[i,j]*dt))>np.random.rand()):\u001b[0m\u001b[0;34m\u001b[0m\u001b[0;34m\u001b[0m\u001b[0m\n\u001b[0;32m---> 45\u001b[0;31m             \u001b[0;32mif\u001b[0m\u001b[0;34m(\u001b[0m\u001b[0mpDoCrime\u001b[0m\u001b[0;34m[\u001b[0m\u001b[0mi\u001b[0m\u001b[0;34m,\u001b[0m\u001b[0mj\u001b[0m\u001b[0;34m]\u001b[0m \u001b[0;34m<\u001b[0m \u001b[0mnp\u001b[0m\u001b[0;34m.\u001b[0m\u001b[0mrandom\u001b[0m\u001b[0;34m.\u001b[0m\u001b[0mrand\u001b[0m\u001b[0;34m(\u001b[0m\u001b[0;34m)\u001b[0m\u001b[0;34m)\u001b[0m\u001b[0;34m:\u001b[0m\u001b[0;34m\u001b[0m\u001b[0m\n\u001b[0m\u001b[1;32m     46\u001b[0m \u001b[0;31m#                 ntemp[i,j]=ntemp[i,j]-1;\u001b[0m\u001b[0;34m\u001b[0m\u001b[0;34m\u001b[0m\u001b[0m\n\u001b[1;32m     47\u001b[0m                 \u001b[0mC\u001b[0m\u001b[0;34m[\u001b[0m\u001b[0mi\u001b[0m\u001b[0;34m,\u001b[0m\u001b[0mj\u001b[0m\u001b[0;34m]\u001b[0m \u001b[0;34m+=\u001b[0m \u001b[0;36m1\u001b[0m\u001b[0;34m;\u001b[0m\u001b[0;34m\u001b[0m\u001b[0m\n",
      "\u001b[0;31mKeyboardInterrupt\u001b[0m: "
     ]
    },
    {
     "data": {
      "text/plain": [
       "<Figure size 432x288 with 0 Axes>"
      ]
     },
     "metadata": {},
     "output_type": "display_data"
    },
    {
     "data": {
      "text/plain": [
       "<Figure size 432x288 with 0 Axes>"
      ]
     },
     "metadata": {},
     "output_type": "display_data"
    },
    {
     "data": {
      "text/plain": [
       "<Figure size 432x288 with 0 Axes>"
      ]
     },
     "metadata": {},
     "output_type": "display_data"
    },
    {
     "data": {
      "text/plain": [
       "<Figure size 432x288 with 0 Axes>"
      ]
     },
     "metadata": {},
     "output_type": "display_data"
    },
    {
     "data": {
      "text/plain": [
       "<Figure size 432x288 with 0 Axes>"
      ]
     },
     "metadata": {},
     "output_type": "display_data"
    },
    {
     "data": {
      "text/plain": [
       "<Figure size 432x288 with 0 Axes>"
      ]
     },
     "metadata": {},
     "output_type": "display_data"
    },
    {
     "data": {
      "text/plain": [
       "<Figure size 432x288 with 0 Axes>"
      ]
     },
     "metadata": {},
     "output_type": "display_data"
    },
    {
     "data": {
      "text/plain": [
       "<Figure size 432x288 with 0 Axes>"
      ]
     },
     "metadata": {},
     "output_type": "display_data"
    },
    {
     "data": {
      "text/plain": [
       "<Figure size 432x288 with 0 Axes>"
      ]
     },
     "metadata": {},
     "output_type": "display_data"
    },
    {
     "data": {
      "text/plain": [
       "<Figure size 432x288 with 0 Axes>"
      ]
     },
     "metadata": {},
     "output_type": "display_data"
    },
    {
     "data": {
      "text/plain": [
       "<Figure size 432x288 with 0 Axes>"
      ]
     },
     "metadata": {},
     "output_type": "display_data"
    },
    {
     "data": {
      "text/plain": [
       "<Figure size 432x288 with 0 Axes>"
      ]
     },
     "metadata": {},
     "output_type": "display_data"
    },
    {
     "data": {
      "text/plain": [
       "<Figure size 432x288 with 0 Axes>"
      ]
     },
     "metadata": {},
     "output_type": "display_data"
    },
    {
     "data": {
      "text/plain": [
       "<Figure size 432x288 with 0 Axes>"
      ]
     },
     "metadata": {},
     "output_type": "display_data"
    },
    {
     "data": {
      "text/plain": [
       "<Figure size 432x288 with 0 Axes>"
      ]
     },
     "metadata": {},
     "output_type": "display_data"
    },
    {
     "data": {
      "text/plain": [
       "<Figure size 432x288 with 0 Axes>"
      ]
     },
     "metadata": {},
     "output_type": "display_data"
    },
    {
     "data": {
      "text/plain": [
       "<Figure size 432x288 with 0 Axes>"
      ]
     },
     "metadata": {},
     "output_type": "display_data"
    },
    {
     "data": {
      "text/plain": [
       "<Figure size 432x288 with 0 Axes>"
      ]
     },
     "metadata": {},
     "output_type": "display_data"
    },
    {
     "data": {
      "text/plain": [
       "<Figure size 432x288 with 0 Axes>"
      ]
     },
     "metadata": {},
     "output_type": "display_data"
    },
    {
     "data": {
      "text/plain": [
       "<Figure size 432x288 with 0 Axes>"
      ]
     },
     "metadata": {},
     "output_type": "display_data"
    },
    {
     "data": {
      "text/plain": [
       "<Figure size 432x288 with 0 Axes>"
      ]
     },
     "metadata": {},
     "output_type": "display_data"
    },
    {
     "data": {
      "text/plain": [
       "<Figure size 432x288 with 0 Axes>"
      ]
     },
     "metadata": {},
     "output_type": "display_data"
    },
    {
     "data": {
      "text/plain": [
       "<Figure size 432x288 with 0 Axes>"
      ]
     },
     "metadata": {},
     "output_type": "display_data"
    },
    {
     "data": {
      "text/plain": [
       "<Figure size 432x288 with 0 Axes>"
      ]
     },
     "metadata": {},
     "output_type": "display_data"
    },
    {
     "data": {
      "text/plain": [
       "<Figure size 432x288 with 0 Axes>"
      ]
     },
     "metadata": {},
     "output_type": "display_data"
    },
    {
     "data": {
      "text/plain": [
       "<Figure size 432x288 with 0 Axes>"
      ]
     },
     "metadata": {},
     "output_type": "display_data"
    },
    {
     "data": {
      "text/plain": [
       "<Figure size 432x288 with 0 Axes>"
      ]
     },
     "metadata": {},
     "output_type": "display_data"
    },
    {
     "data": {
      "text/plain": [
       "<Figure size 432x288 with 0 Axes>"
      ]
     },
     "metadata": {},
     "output_type": "display_data"
    },
    {
     "data": {
      "text/plain": [
       "<Figure size 432x288 with 0 Axes>"
      ]
     },
     "metadata": {},
     "output_type": "display_data"
    },
    {
     "data": {
      "text/plain": [
       "<Figure size 432x288 with 0 Axes>"
      ]
     },
     "metadata": {},
     "output_type": "display_data"
    },
    {
     "data": {
      "text/plain": [
       "<Figure size 432x288 with 0 Axes>"
      ]
     },
     "metadata": {},
     "output_type": "display_data"
    },
    {
     "data": {
      "text/plain": [
       "<Figure size 432x288 with 0 Axes>"
      ]
     },
     "metadata": {},
     "output_type": "display_data"
    },
    {
     "data": {
      "text/plain": [
       "<Figure size 432x288 with 0 Axes>"
      ]
     },
     "metadata": {},
     "output_type": "display_data"
    },
    {
     "data": {
      "text/plain": [
       "<Figure size 432x288 with 0 Axes>"
      ]
     },
     "metadata": {},
     "output_type": "display_data"
    },
    {
     "data": {
      "text/plain": [
       "<Figure size 432x288 with 0 Axes>"
      ]
     },
     "metadata": {},
     "output_type": "display_data"
    },
    {
     "data": {
      "text/plain": [
       "<Figure size 432x288 with 0 Axes>"
      ]
     },
     "metadata": {},
     "output_type": "display_data"
    },
    {
     "data": {
      "text/plain": [
       "<Figure size 432x288 with 0 Axes>"
      ]
     },
     "metadata": {},
     "output_type": "display_data"
    },
    {
     "data": {
      "text/plain": [
       "<Figure size 432x288 with 0 Axes>"
      ]
     },
     "metadata": {},
     "output_type": "display_data"
    },
    {
     "data": {
      "text/plain": [
       "<Figure size 432x288 with 0 Axes>"
      ]
     },
     "metadata": {},
     "output_type": "display_data"
    },
    {
     "data": {
      "text/plain": [
       "<Figure size 432x288 with 0 Axes>"
      ]
     },
     "metadata": {},
     "output_type": "display_data"
    },
    {
     "data": {
      "text/plain": [
       "<Figure size 432x288 with 0 Axes>"
      ]
     },
     "metadata": {},
     "output_type": "display_data"
    },
    {
     "data": {
      "text/plain": [
       "<Figure size 432x288 with 0 Axes>"
      ]
     },
     "metadata": {},
     "output_type": "display_data"
    },
    {
     "data": {
      "text/plain": [
       "<Figure size 432x288 with 0 Axes>"
      ]
     },
     "metadata": {},
     "output_type": "display_data"
    },
    {
     "data": {
      "text/plain": [
       "<Figure size 432x288 with 0 Axes>"
      ]
     },
     "metadata": {},
     "output_type": "display_data"
    },
    {
     "data": {
      "text/plain": [
       "<Figure size 432x288 with 0 Axes>"
      ]
     },
     "metadata": {},
     "output_type": "display_data"
    },
    {
     "data": {
      "text/plain": [
       "<Figure size 432x288 with 0 Axes>"
      ]
     },
     "metadata": {},
     "output_type": "display_data"
    },
    {
     "data": {
      "text/plain": [
       "<Figure size 432x288 with 0 Axes>"
      ]
     },
     "metadata": {},
     "output_type": "display_data"
    },
    {
     "data": {
      "text/plain": [
       "<Figure size 432x288 with 0 Axes>"
      ]
     },
     "metadata": {},
     "output_type": "display_data"
    },
    {
     "data": {
      "text/plain": [
       "<Figure size 432x288 with 0 Axes>"
      ]
     },
     "metadata": {},
     "output_type": "display_data"
    },
    {
     "data": {
      "text/plain": [
       "<Figure size 432x288 with 0 Axes>"
      ]
     },
     "metadata": {},
     "output_type": "display_data"
    },
    {
     "data": {
      "text/plain": [
       "<Figure size 432x288 with 0 Axes>"
      ]
     },
     "metadata": {},
     "output_type": "display_data"
    },
    {
     "data": {
      "text/plain": [
       "<Figure size 432x288 with 0 Axes>"
      ]
     },
     "metadata": {},
     "output_type": "display_data"
    },
    {
     "data": {
      "text/plain": [
       "<Figure size 432x288 with 0 Axes>"
      ]
     },
     "metadata": {},
     "output_type": "display_data"
    },
    {
     "data": {
      "text/plain": [
       "<Figure size 432x288 with 0 Axes>"
      ]
     },
     "metadata": {},
     "output_type": "display_data"
    },
    {
     "data": {
      "text/plain": [
       "<Figure size 432x288 with 0 Axes>"
      ]
     },
     "metadata": {},
     "output_type": "display_data"
    },
    {
     "data": {
      "text/plain": [
       "<Figure size 432x288 with 0 Axes>"
      ]
     },
     "metadata": {},
     "output_type": "display_data"
    },
    {
     "data": {
      "text/plain": [
       "<Figure size 432x288 with 0 Axes>"
      ]
     },
     "metadata": {},
     "output_type": "display_data"
    },
    {
     "data": {
      "text/plain": [
       "<Figure size 432x288 with 0 Axes>"
      ]
     },
     "metadata": {},
     "output_type": "display_data"
    },
    {
     "data": {
      "text/plain": [
       "<Figure size 432x288 with 0 Axes>"
      ]
     },
     "metadata": {},
     "output_type": "display_data"
    },
    {
     "data": {
      "text/plain": [
       "<Figure size 432x288 with 0 Axes>"
      ]
     },
     "metadata": {},
     "output_type": "display_data"
    },
    {
     "data": {
      "text/plain": [
       "<Figure size 432x288 with 0 Axes>"
      ]
     },
     "metadata": {},
     "output_type": "display_data"
    },
    {
     "data": {
      "text/plain": [
       "<Figure size 432x288 with 0 Axes>"
      ]
     },
     "metadata": {},
     "output_type": "display_data"
    },
    {
     "data": {
      "text/plain": [
       "<Figure size 432x288 with 0 Axes>"
      ]
     },
     "metadata": {},
     "output_type": "display_data"
    },
    {
     "data": {
      "text/plain": [
       "<Figure size 432x288 with 0 Axes>"
      ]
     },
     "metadata": {},
     "output_type": "display_data"
    },
    {
     "data": {
      "text/plain": [
       "<Figure size 432x288 with 0 Axes>"
      ]
     },
     "metadata": {},
     "output_type": "display_data"
    },
    {
     "data": {
      "text/plain": [
       "<Figure size 432x288 with 0 Axes>"
      ]
     },
     "metadata": {},
     "output_type": "display_data"
    },
    {
     "data": {
      "text/plain": [
       "<Figure size 432x288 with 0 Axes>"
      ]
     },
     "metadata": {},
     "output_type": "display_data"
    },
    {
     "data": {
      "text/plain": [
       "<Figure size 432x288 with 0 Axes>"
      ]
     },
     "metadata": {},
     "output_type": "display_data"
    },
    {
     "data": {
      "text/plain": [
       "<Figure size 432x288 with 0 Axes>"
      ]
     },
     "metadata": {},
     "output_type": "display_data"
    },
    {
     "data": {
      "text/plain": [
       "<Figure size 432x288 with 0 Axes>"
      ]
     },
     "metadata": {},
     "output_type": "display_data"
    },
    {
     "data": {
      "text/plain": [
       "<Figure size 432x288 with 0 Axes>"
      ]
     },
     "metadata": {},
     "output_type": "display_data"
    },
    {
     "data": {
      "text/plain": [
       "<Figure size 432x288 with 0 Axes>"
      ]
     },
     "metadata": {},
     "output_type": "display_data"
    },
    {
     "data": {
      "text/plain": [
       "<Figure size 432x288 with 0 Axes>"
      ]
     },
     "metadata": {},
     "output_type": "display_data"
    },
    {
     "data": {
      "text/plain": [
       "<Figure size 432x288 with 0 Axes>"
      ]
     },
     "metadata": {},
     "output_type": "display_data"
    },
    {
     "data": {
      "text/plain": [
       "<Figure size 432x288 with 0 Axes>"
      ]
     },
     "metadata": {},
     "output_type": "display_data"
    },
    {
     "data": {
      "text/plain": [
       "<Figure size 432x288 with 0 Axes>"
      ]
     },
     "metadata": {},
     "output_type": "display_data"
    },
    {
     "data": {
      "text/plain": [
       "<Figure size 432x288 with 0 Axes>"
      ]
     },
     "metadata": {},
     "output_type": "display_data"
    },
    {
     "data": {
      "text/plain": [
       "<Figure size 432x288 with 0 Axes>"
      ]
     },
     "metadata": {},
     "output_type": "display_data"
    },
    {
     "data": {
      "text/plain": [
       "<Figure size 432x288 with 0 Axes>"
      ]
     },
     "metadata": {},
     "output_type": "display_data"
    },
    {
     "data": {
      "text/plain": [
       "<Figure size 432x288 with 0 Axes>"
      ]
     },
     "metadata": {},
     "output_type": "display_data"
    },
    {
     "data": {
      "text/plain": [
       "<Figure size 432x288 with 0 Axes>"
      ]
     },
     "metadata": {},
     "output_type": "display_data"
    },
    {
     "data": {
      "text/plain": [
       "<Figure size 432x288 with 0 Axes>"
      ]
     },
     "metadata": {},
     "output_type": "display_data"
    },
    {
     "data": {
      "text/plain": [
       "<Figure size 432x288 with 0 Axes>"
      ]
     },
     "metadata": {},
     "output_type": "display_data"
    },
    {
     "data": {
      "text/plain": [
       "<Figure size 432x288 with 0 Axes>"
      ]
     },
     "metadata": {},
     "output_type": "display_data"
    },
    {
     "data": {
      "text/plain": [
       "<Figure size 432x288 with 0 Axes>"
      ]
     },
     "metadata": {},
     "output_type": "display_data"
    },
    {
     "data": {
      "text/plain": [
       "<Figure size 432x288 with 0 Axes>"
      ]
     },
     "metadata": {},
     "output_type": "display_data"
    },
    {
     "data": {
      "text/plain": [
       "<Figure size 432x288 with 0 Axes>"
      ]
     },
     "metadata": {},
     "output_type": "display_data"
    },
    {
     "data": {
      "text/plain": [
       "<Figure size 432x288 with 0 Axes>"
      ]
     },
     "metadata": {},
     "output_type": "display_data"
    },
    {
     "data": {
      "text/plain": [
       "<Figure size 432x288 with 0 Axes>"
      ]
     },
     "metadata": {},
     "output_type": "display_data"
    },
    {
     "data": {
      "text/plain": [
       "<Figure size 432x288 with 0 Axes>"
      ]
     },
     "metadata": {},
     "output_type": "display_data"
    },
    {
     "data": {
      "text/plain": [
       "<Figure size 432x288 with 0 Axes>"
      ]
     },
     "metadata": {},
     "output_type": "display_data"
    },
    {
     "data": {
      "text/plain": [
       "<Figure size 432x288 with 0 Axes>"
      ]
     },
     "metadata": {},
     "output_type": "display_data"
    },
    {
     "data": {
      "text/plain": [
       "<Figure size 432x288 with 0 Axes>"
      ]
     },
     "metadata": {},
     "output_type": "display_data"
    },
    {
     "data": {
      "text/plain": [
       "<Figure size 432x288 with 0 Axes>"
      ]
     },
     "metadata": {},
     "output_type": "display_data"
    },
    {
     "data": {
      "text/plain": [
       "<Figure size 432x288 with 0 Axes>"
      ]
     },
     "metadata": {},
     "output_type": "display_data"
    },
    {
     "data": {
      "text/plain": [
       "<Figure size 432x288 with 0 Axes>"
      ]
     },
     "metadata": {},
     "output_type": "display_data"
    },
    {
     "data": {
      "text/plain": [
       "<Figure size 432x288 with 0 Axes>"
      ]
     },
     "metadata": {},
     "output_type": "display_data"
    },
    {
     "data": {
      "text/plain": [
       "<Figure size 432x288 with 0 Axes>"
      ]
     },
     "metadata": {},
     "output_type": "display_data"
    },
    {
     "data": {
      "text/plain": [
       "<Figure size 432x288 with 0 Axes>"
      ]
     },
     "metadata": {},
     "output_type": "display_data"
    },
    {
     "data": {
      "text/plain": [
       "<Figure size 432x288 with 0 Axes>"
      ]
     },
     "metadata": {},
     "output_type": "display_data"
    },
    {
     "data": {
      "text/plain": [
       "<Figure size 432x288 with 0 Axes>"
      ]
     },
     "metadata": {},
     "output_type": "display_data"
    },
    {
     "data": {
      "text/plain": [
       "<Figure size 432x288 with 0 Axes>"
      ]
     },
     "metadata": {},
     "output_type": "display_data"
    },
    {
     "data": {
      "text/plain": [
       "<Figure size 432x288 with 0 Axes>"
      ]
     },
     "metadata": {},
     "output_type": "display_data"
    },
    {
     "data": {
      "text/plain": [
       "<Figure size 432x288 with 0 Axes>"
      ]
     },
     "metadata": {},
     "output_type": "display_data"
    },
    {
     "data": {
      "text/plain": [
       "<Figure size 432x288 with 0 Axes>"
      ]
     },
     "metadata": {},
     "output_type": "display_data"
    },
    {
     "data": {
      "text/plain": [
       "<Figure size 432x288 with 0 Axes>"
      ]
     },
     "metadata": {},
     "output_type": "display_data"
    },
    {
     "data": {
      "text/plain": [
       "<Figure size 432x288 with 0 Axes>"
      ]
     },
     "metadata": {},
     "output_type": "display_data"
    },
    {
     "data": {
      "text/plain": [
       "<Figure size 432x288 with 0 Axes>"
      ]
     },
     "metadata": {},
     "output_type": "display_data"
    },
    {
     "data": {
      "text/plain": [
       "<Figure size 432x288 with 0 Axes>"
      ]
     },
     "metadata": {},
     "output_type": "display_data"
    },
    {
     "data": {
      "text/plain": [
       "<Figure size 432x288 with 0 Axes>"
      ]
     },
     "metadata": {},
     "output_type": "display_data"
    },
    {
     "data": {
      "text/plain": [
       "<Figure size 432x288 with 0 Axes>"
      ]
     },
     "metadata": {},
     "output_type": "display_data"
    },
    {
     "data": {
      "text/plain": [
       "<Figure size 432x288 with 0 Axes>"
      ]
     },
     "metadata": {},
     "output_type": "display_data"
    },
    {
     "data": {
      "text/plain": [
       "<Figure size 432x288 with 0 Axes>"
      ]
     },
     "metadata": {},
     "output_type": "display_data"
    },
    {
     "data": {
      "text/plain": [
       "<Figure size 432x288 with 0 Axes>"
      ]
     },
     "metadata": {},
     "output_type": "display_data"
    },
    {
     "data": {
      "text/plain": [
       "<Figure size 432x288 with 0 Axes>"
      ]
     },
     "metadata": {},
     "output_type": "display_data"
    },
    {
     "data": {
      "text/plain": [
       "<Figure size 432x288 with 0 Axes>"
      ]
     },
     "metadata": {},
     "output_type": "display_data"
    },
    {
     "data": {
      "text/plain": [
       "<Figure size 432x288 with 0 Axes>"
      ]
     },
     "metadata": {},
     "output_type": "display_data"
    },
    {
     "data": {
      "text/plain": [
       "<Figure size 432x288 with 0 Axes>"
      ]
     },
     "metadata": {},
     "output_type": "display_data"
    },
    {
     "data": {
      "text/plain": [
       "<Figure size 432x288 with 0 Axes>"
      ]
     },
     "metadata": {},
     "output_type": "display_data"
    },
    {
     "data": {
      "text/plain": [
       "<Figure size 432x288 with 0 Axes>"
      ]
     },
     "metadata": {},
     "output_type": "display_data"
    },
    {
     "data": {
      "text/plain": [
       "<Figure size 432x288 with 0 Axes>"
      ]
     },
     "metadata": {},
     "output_type": "display_data"
    },
    {
     "data": {
      "text/plain": [
       "<Figure size 432x288 with 0 Axes>"
      ]
     },
     "metadata": {},
     "output_type": "display_data"
    },
    {
     "data": {
      "text/plain": [
       "<Figure size 432x288 with 0 Axes>"
      ]
     },
     "metadata": {},
     "output_type": "display_data"
    },
    {
     "data": {
      "text/plain": [
       "<Figure size 432x288 with 0 Axes>"
      ]
     },
     "metadata": {},
     "output_type": "display_data"
    },
    {
     "data": {
      "text/plain": [
       "<Figure size 432x288 with 0 Axes>"
      ]
     },
     "metadata": {},
     "output_type": "display_data"
    },
    {
     "data": {
      "text/plain": [
       "<Figure size 432x288 with 0 Axes>"
      ]
     },
     "metadata": {},
     "output_type": "display_data"
    },
    {
     "data": {
      "text/plain": [
       "<Figure size 432x288 with 0 Axes>"
      ]
     },
     "metadata": {},
     "output_type": "display_data"
    },
    {
     "data": {
      "text/plain": [
       "<Figure size 432x288 with 0 Axes>"
      ]
     },
     "metadata": {},
     "output_type": "display_data"
    },
    {
     "data": {
      "text/plain": [
       "<Figure size 432x288 with 0 Axes>"
      ]
     },
     "metadata": {},
     "output_type": "display_data"
    },
    {
     "data": {
      "text/plain": [
       "<Figure size 432x288 with 0 Axes>"
      ]
     },
     "metadata": {},
     "output_type": "display_data"
    },
    {
     "data": {
      "text/plain": [
       "<Figure size 432x288 with 0 Axes>"
      ]
     },
     "metadata": {},
     "output_type": "display_data"
    },
    {
     "data": {
      "text/plain": [
       "<Figure size 432x288 with 0 Axes>"
      ]
     },
     "metadata": {},
     "output_type": "display_data"
    },
    {
     "data": {
      "text/plain": [
       "<Figure size 432x288 with 0 Axes>"
      ]
     },
     "metadata": {},
     "output_type": "display_data"
    },
    {
     "data": {
      "text/plain": [
       "<Figure size 432x288 with 0 Axes>"
      ]
     },
     "metadata": {},
     "output_type": "display_data"
    },
    {
     "data": {
      "text/plain": [
       "<Figure size 432x288 with 0 Axes>"
      ]
     },
     "metadata": {},
     "output_type": "display_data"
    },
    {
     "data": {
      "text/plain": [
       "<Figure size 432x288 with 0 Axes>"
      ]
     },
     "metadata": {},
     "output_type": "display_data"
    },
    {
     "data": {
      "text/plain": [
       "<Figure size 432x288 with 0 Axes>"
      ]
     },
     "metadata": {},
     "output_type": "display_data"
    },
    {
     "data": {
      "text/plain": [
       "<Figure size 432x288 with 0 Axes>"
      ]
     },
     "metadata": {},
     "output_type": "display_data"
    },
    {
     "data": {
      "text/plain": [
       "<Figure size 432x288 with 0 Axes>"
      ]
     },
     "metadata": {},
     "output_type": "display_data"
    },
    {
     "data": {
      "text/plain": [
       "<Figure size 432x288 with 0 Axes>"
      ]
     },
     "metadata": {},
     "output_type": "display_data"
    },
    {
     "data": {
      "text/plain": [
       "<Figure size 432x288 with 0 Axes>"
      ]
     },
     "metadata": {},
     "output_type": "display_data"
    },
    {
     "data": {
      "text/plain": [
       "<Figure size 432x288 with 0 Axes>"
      ]
     },
     "metadata": {},
     "output_type": "display_data"
    },
    {
     "data": {
      "text/plain": [
       "<Figure size 432x288 with 0 Axes>"
      ]
     },
     "metadata": {},
     "output_type": "display_data"
    },
    {
     "data": {
      "image/png": "[encoded data removed]",
      "text/plain": [
       "<Figure size 432x288 with 2 Axes>"
      ]
     },
     "metadata": {},
     "output_type": "display_data"
    }
   ],
   "source": [
    "np.random.seed(0)\n",
    "start = time.time()\n",
    "for k in range(it):\n",
    "    C,B,n=update_system(A0,B,n,dt,gamma,eta,theta,w)\n",
    "    if k % 100 == 0:\n",
    "        end = time.time()\n",
    "        plt.clf()\n",
    "        fig, (ax1,ax2) = plt.subplots(nrows=1,ncols=2)\n",
    "        ax1.imshow(B)\n",
    "        ax2.imshow(n)\n",
    "        display.clear_output(wait=True)\n",
    "        display.display(plt.gcf())\n",
    "        print(end-start)\n",
    "        print(\"k={}, n={}\".format(k,n.sum()))\n",
    "        start = time.time()"
   ]
  },
  {
   "cell_type": "code",
   "execution_count": null,
   "metadata": {},
   "outputs": [],
   "source": []
  },
  {
   "cell_type": "code",
   "execution_count": null,
   "metadata": {},
   "outputs": [],
   "source": [
    "# testing indexing (abandoned)\n",
    "np.random.seed(0)\n",
    "M = 10\n",
    "\n",
    "# n = [4,2,1,3]\n",
    "# ix = [[x]*n[x] for x in range(len(n))]\n",
    "# flat_ix = [y for x in ix for y in x]\n",
    "\n",
    "# print(ix)\n",
    "# print(flat_ix)\n",
    "\n",
    "\n",
    "m = np.zeros((M,M))\n",
    "p = m.ravel()\n",
    "for i in range(M**2):\n",
    "    p[i] = i%100\n",
    "# p = [x for x in range(16)]\n",
    "# print(m)\n",
    "print(p)\n",
    "plt.imshow(m)\n",
    "\n",
    "A = np.random.rand(M,M)\n",
    "B = A.ravel()\n",
    "\n",
    "\n",
    "# method 1: bad loop\n",
    "start = time.time()\n",
    "n = np.int(sum(sum(m)))\n",
    "z = np.zeros((n,))\n",
    "count = 0\n",
    "for i in range(M):\n",
    "    for j in range(M):\n",
    "        for k in range(np.int(m[i,j])):\n",
    "            z[count] = A[i,j]\n",
    "            count += 1\n",
    "print(time.time()-start)\n",
    "print(z.T)\n",
    "\n",
    "# method 2: better loop?\n",
    "start = time.time()\n",
    "n = np.int(sum(sum(m)))\n",
    "z2 = np.zeros((n,))\n",
    "count = 0\n",
    "for i in range(M):\n",
    "    for j in range(M):\n",
    "        k = np.int(m[i,j])\n",
    "        z2[count:count+k] = A[i,j]\n",
    "        count += k\n",
    "print(time.time()-start)\n",
    "print(z2.T)\n",
    "\n",
    "# list comprehension\n",
    "start = time.time()\n",
    "p = m.ravel()\n",
    "ix = [[x]*np.int(p[x]) for x in range(len(p))]\n",
    "flat_ix = [y for x in ix for y in x]\n",
    "y = B[flat_ix]\n",
    "print(time.time()-start)\n",
    "print(y)\n",
    "\n",
    "print(np.shape(z))\n",
    "print(np.shape(y))\n",
    "print(np.array_equal(z,y))\n",
    "print(np.array_equal(z,z2))"
   ]
  },
  {
   "cell_type": "code",
   "execution_count": 24,
   "metadata": {},
   "outputs": [
    {
     "name": "stdout",
     "output_type": "stream",
     "text": [
      "0.027055025100708008\n",
      "0.00054931640625\n",
      "[2 0 1 ... 1 0 0]\n",
      "[2. 2. 3. ... 2. 2. 2.]\n"
     ]
    }
   ],
   "source": [
    "# sampling from k-class p\n",
    "import numpy as np\n",
    "from scipy.stats import binned_statistic\n",
    "import time\n",
    "\n",
    "n = 10000\n",
    "np.random.seed(0)\n",
    "data = np.random.rand(n)\n",
    "p =[0.4, 0.1, 0.2, 0.3]\n",
    "\n",
    "# method 0 multinomial (fastest)\n",
    "np.random.seed(0)\n",
    "t = time.time()\n",
    "b0 = np.random.multinomial(n,p,1)\n",
    "print(time.time()-t)\n",
    "print(b0)\n",
    "\n",
    "# method 1 digitize (2nd fastest)\n",
    "t = time.time()\n",
    "cs = np.cumsum(p)\n",
    "b1 = np.bincount( np.digitize(data,cs,right=True) )\n",
    "print (time.time()-t)\n",
    "print(b1)\n",
    "\n",
    "# method 2 binned_statistic\n",
    "t = time.time()\n",
    "cs = np.append(0,np.cumsum(p))\n",
    "b2 = binned_statistic(data,data,statistic='count',bins=cs)[0]\n",
    "print (time.time()-t)\n",
    "print(b2)\n",
    "\n",
    "# method 3 loop (fastest for small n <20)\n",
    "t = time.time()\n",
    "cs = np.cumsum(p)\n",
    "b3 = np.zeros(len(p))\n",
    "for i in range(n):\n",
    "    if data[i] < cs[0]:\n",
    "        b3[0] += 1\n",
    "    elif data[i] < cs[1]:\n",
    "        b3[1] += 1\n",
    "    elif data[i] < cs[2]:\n",
    "        b3[2] += 1\n",
    "    else:\n",
    "        b3[3] += 1\n",
    "print (time.time()-t)\n",
    "print(b3)"
   ]
  },
  {
   "cell_type": "code",
   "execution_count": null,
   "metadata": {},
   "outputs": [],
   "source": []
  }
 ],
 "metadata": {
  "kernelspec": {
   "display_name": "Python 3",
   "language": "python",
   "name": "python3"
  },
  "language_info": {
   "codemirror_mode": {
    "name": "ipython",
    "version": 3
   },
   "file_extension": ".py",
   "mimetype": "text/x-python",
   "name": "python",
   "nbconvert_exporter": "python",
   "pygments_lexer": "ipython3",
   "version": "3.5.2"
  }
 },
 "nbformat": 4,
 "nbformat_minor": 2
}
