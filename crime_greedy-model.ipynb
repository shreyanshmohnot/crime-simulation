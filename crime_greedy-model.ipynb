{
 "cells": [
  {
   "cell_type": "code",
   "execution_count": null,
   "metadata": {},
   "outputs": [],
   "source": [
    "# Greedy Agent Model and Random Walk Agent Model\n",
    "\n",
    "from greedyFunc import greedy_action\n",
    "from CrimeWorld import *\n",
    "\n",
    "import pandas as pd\n",
    "import matplotlib.pyplot as plt\n",
    "import csv\n"
   ]
  },
  {
   "cell_type": "code",
   "execution_count": null,
   "metadata": {},
   "outputs": [],
   "source": [
    "cw = CrimeWorld()\n",
    "cw.add_agent(60,60)\n",
    "cw.reset()\n",
    "save_results = []\n",
    "time_steps = 1000"
   ]
  },
  {
   "cell_type": "code",
   "execution_count": null,
   "metadata": {},
   "outputs": [],
   "source": [
    "for i in range(time_steps):\n",
    "    S0 = cw.get_state()\n",
    "    # greedy approach function\n",
    "    a = greedy_action(S0)\n",
    "    # random walk function\n",
    "    # a = np.random.randint(0,5)\n",
    "    R = cw.make_action(a)\n",
    "    S0 = cw.get_state()\n",
    "    save_results.append([cw.policeX, cw.policeY, a, R, cw.result_matrixsum(a, R)[0], cw.result_matrixsum(a, R)[0]])\n",
    "    # plt.clf()\n",
    "    # fig, ((ax1,ax2,ax3), (ax4,ax5,ax6)) = plt.subplots(nrows=3,ncols=2,figsize=(15,15))\n",
    "    # ax1.imshow(cw.B)       # dynamic attractiveness\n",
    "    # ax2.imshow(cw.n)       # burglar count\n",
    "    # ax3.imshow(cw.totalC)  # running crime count (state)\n",
    "    # ax4.imshow(cw.P>0)     # police location\n",
    "    # ax5.imshow(cw.D)       # police deterrence\n",
    "    # ax6.imshow(cw.totalC == cw.totalC.max())\n",
    "    # display.clear_output(wait=True)\n",
    "    # display.display(plt.gcf())\n",
    "    # print('Action {}, Reward {}'.format(a,R))\n",
    "    # print('Police location ({},{})'.format(cw.policeX,cw.policeY))\n",
    "\n",
    "# save greedy police positions and matrices  \n",
    "with open('results_greedy.csv', mode='w+') as csv_file:\n",
    "    writer = csv.writer(csv_file, delimiter=',')\n",
    "    writer.writerows([[\"policeX\",\"policeY\",\"action\",\"reward\",\"new_B\",\"new_n\"]])\n",
    "    writer.writerows(save_results)\n",
    " "
   ]
  },
  {
   "cell_type": "code",
   "execution_count": null,
   "metadata": {},
   "outputs": [],
   "source": [
    "# plot to see the graphgs and plot for the greedy appraoch\n",
    "# police_data = save_results\n",
    "# police_data = pd.read_csv(\"results_greedy.csv\")\n",
    "# data = np.load(\"resultFile.npz\")\n",
    "# fig ,(ax1,ax2) = plt.subplots(nrows=1,ncols=2, figsize=(15,10))\n",
    "# policeX = police_data.policeX.values\n",
    "# policeY = police_data.policeY.values\n",
    "# ax1.scatter(policeX[0], policeY[0], color='red')\n",
    "# ax1.scatter(policeX[-1], policeY[-1], color='orange')\n",
    "# ax1.plot(policeX, policeY, color='green')\n",
    "# ax1.imshow(data['B'])\n",
    "# ax2.imshow(cw.B)\n",
    "# ax1.invert_yaxis()\n",
    "# ax2.invert_yaxis()\n",
    "# ax2.gca().invert_yaxis()\n",
    "# plt.show()\n"
   ]
  }
 ],
 "metadata": {
  "kernelspec": {
   "display_name": "Python 3",
   "language": "python",
   "name": "python3"
  },
  "language_info": {
   "codemirror_mode": {
    "name": "ipython",
    "version": 3
   },
   "file_extension": ".py",
   "mimetype": "text/x-python",
   "name": "python",
   "nbconvert_exporter": "python",
   "pygments_lexer": "ipython3",
   "version": "3.6.8"
  }
 },
 "nbformat": 4,
 "nbformat_minor": 2
}
